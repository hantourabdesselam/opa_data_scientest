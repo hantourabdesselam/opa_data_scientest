{
 "cells": [
  {
   "cell_type": "code",
   "execution_count": 6,
   "metadata": {},
   "outputs": [],
   "source": [
    "api_key = 'Q2ScRTFxPN3auqFzSwTARZjwyReBBqvGj6o62mwHs8dE3sq6ghkrwbcmAHIIFPB9'\n",
    "secret = 'YbYojfUG1Ysk1Wg6yAHt1fZmQ47Jq8fKBkIXu3JZn41XzK1G9LnJHRiIyYhx8zWH'"
   ]
  },
  {
   "cell_type": "code",
   "execution_count": null,
   "metadata": {},
   "outputs": [],
   "source": [
    "from binance.client import Client\n",
    "\n",
    "from binance.spot import Spot\n",
    "\n",
    "from datetime import datetime, timedelta\n",
    "import pandas as pd\n",
    "\n",
    "# Initialize the Binance Spot client\n",
    "client = Spot()\n",
    "\n",
    "\n",
    "def get_from_api_historical_prices(list_of_symbol):\n",
    "    historical_prices  = pd.DataFrame()\n",
    "\n",
    "    for symbol in list_of_symbol:\n",
    "        # Define the symbol and interval\n",
    "        interval = Client.KLINE_INTERVAL_1MINUTE\n",
    "\n",
    "        # Calculate the start and end times (6 months ago from now)\n",
    "        end_time = client.get_server_time()['serverTime']\n",
    "        start_time = end_time - (1 * 30 * 24 * 60 * 60 * 1000)  # 6 mois en millisecondes\n",
    "\n",
    "        # Fetch historical klines data\n",
    "        klines = client.get_historical_klines(symbol, interval, start_time, end_time)\n",
    "\n",
    "        # Define the columns for the DataFrame\n",
    "        spot_kline_cols = ['open_time', 'open', 'high', 'low', 'close', 'volume', 'close_time', 'quote_asset_volume', 'number_of_trades', 'taker_buy_base_asset_volume', 'taker_buy_quote_asset_volume', 'ignore']\n",
    "\n",
    "        # Convert the klines data to a DataFrame\n",
    "        df = pd.DataFrame(klines, columns=spot_kline_cols)\n",
    "        df['Symbol'] = symbol\n",
    "        df['timestamp'] = pd.to_datetime(df['open_time'], unit='ms')\n",
    "        historical_prices = pd.concat([historical_prices, df])\n",
    "\n",
    "    return historical_prices"
   ]
  },
  {
   "cell_type": "code",
   "execution_count": 7,
   "metadata": {},
   "outputs": [],
   "source": [
    "from binance.client import Client\n",
    "from datetime import datetime, timedelta\n",
    "import pandas as pd\n",
    "import numpy as np\n",
    "client = Client(api_key= api_key, api_secret=secret)\n",
    "\n",
    "def get_from_api_historical_prices(list_of_symbol):\n",
    "    historical_prices = pd.DataFrame()\n",
    "\n",
    "    for symbol in list_of_symbol:\n",
    "        interval = '1d'  # Intervalle de 24 heures pour l'API\n",
    "\n",
    "        # Obtenir le temps de fin (temps actuel)\n",
    "        end_time = datetime.now()\n",
    "        # Calculer le temps de début (3 ans)\n",
    "        start_time = end_time - timedelta(days=36*31)  # Environ 3 ans\n",
    "\n",
    "        # Convertir start_time et end_time en millisecondes pour l'API\n",
    "        start_time_str = start_time.strftime('%Y-%m-%d %H:%M:%S')\n",
    "        end_time_str = end_time.strftime('%Y-%m-%d %H:%M:%S')\n",
    "\n",
    "        # Fetch historical klines data\n",
    "        klines = client.get_historical_klines(symbol, interval, start_time_str, end_time_str)\n",
    "\n",
    "        # Define the columns for the DataFrame\n",
    "        spot_kline_cols = ['open_time', 'open', 'high', 'low', 'close', 'volume', 'close_time', 'quote_asset_volume', 'number_of_trades', 'taker_buy_base_asset_volume', 'taker_buy_quote_asset_volume', 'ignore']\n",
    "\n",
    "        # Convert the klines data to a DataFrame\n",
    "        df = pd.DataFrame(klines, columns=spot_kline_cols)\n",
    "        df['Symbol'] = symbol\n",
    "        df['timestamp'] = pd.to_datetime(df['open_time'], unit='ms')\n",
    "        df.set_index('timestamp', inplace=True)  # Optionnel: Utiliser 'timestamp' comme index\n",
    "        historical_prices = pd.concat([historical_prices, df])\n",
    "        \n",
    "        historical_prices['close'] = historical_prices['close'].astype(float)\n",
    "        historical_prices['timestamp'] = pd.to_datetime(historical_prices['open_time'], unit='ms')\n",
    "\n",
    "    return historical_prices\n",
    "\n",
    "# Exemple d'utilisations\n",
    "symbols = ['BTCEUR','ETHEUR','DOGEEUR'] \n",
    "#symbols = ['BTCEUR'] # Liste des symboles que vous souhaitez interroger\n",
    "all_symbols = get_from_api_historical_prices(symbols)"
   ]
  },
  {
   "cell_type": "code",
   "execution_count": 8,
   "metadata": {},
   "outputs": [],
   "source": [
    "all_symbols.to_csv('../out/symbols_prices.csv', header =True, sep=';', encoding='utf-8', index=False)"
   ]
  },
  {
   "cell_type": "code",
   "execution_count": 4,
   "metadata": {},
   "outputs": [
    {
     "data": {
      "text/plain": [
       "Symbol\n",
       "BTCEUR     744\n",
       "ETHEUR     744\n",
       "DOGEEUR    744\n",
       "Name: count, dtype: int64"
      ]
     },
     "execution_count": 4,
     "metadata": {},
     "output_type": "execute_result"
    }
   ],
   "source": [
    "all_symbols.Symbol.value_counts()"
   ]
  },
  {
   "cell_type": "code",
   "execution_count": null,
   "metadata": {},
   "outputs": [],
   "source": []
  }
 ],
 "metadata": {
  "kernelspec": {
   "display_name": "base",
   "language": "python",
   "name": "python3"
  },
  "language_info": {
   "codemirror_mode": {
    "name": "ipython",
    "version": 3
   },
   "file_extension": ".py",
   "mimetype": "text/x-python",
   "name": "python",
   "nbconvert_exporter": "python",
   "pygments_lexer": "ipython3",
   "version": "3.9.7"
  }
 },
 "nbformat": 4,
 "nbformat_minor": 2
}
